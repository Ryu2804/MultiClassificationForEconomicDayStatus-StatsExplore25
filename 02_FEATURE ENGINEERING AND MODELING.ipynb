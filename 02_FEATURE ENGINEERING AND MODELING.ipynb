{
  "cells": [
    {
      "cell_type": "markdown",
      "metadata": {
        "id": "xFfK1wJ7-XzJ"
      },
      "source": [
        "# **1. PENDAHULUAN**"
      ]
    },
    {
      "cell_type": "markdown",
      "metadata": {
        "id": "cmMh0MLZBINW"
      },
      "source": [
        "### **1.1 Latar Belakang**\n",
        "Notebook ini adalah bagian dari kompetisi klasifikasi multi-kelas untuk memprediksi status ekonomi harian. Data yang digunakan berasal dari 10 dataset berbeda yang mewakili berbagai region, termasuk Eropa, Asia, Amerika, dan Afrika, menjadikannya sangat unik dan bervariasi."
      ]
    },
    {
      "cell_type": "markdown",
      "metadata": {
        "id": "UkFCzVB7-btJ"
      },
      "source": [
        "### **1.2 Strategi**\n",
        "Notebook ini fokus pada tahap modeling dan prediksi. Data mentah yang awalnya memiliki 75% missing values telah digabungkan dan diimputasi di notebook terpisah. Pendekatan kami mencakup feature engineering yang strategis, hyperparameter tuning yang efisien menggunakan Randomized Search, dan training model Random Forest Classifier yang kuat untuk menghasilkan prediksi akurat."
      ]
    },
    {
      "cell_type": "markdown",
      "metadata": {
        "id": "V0LvlxeQAPEW"
      },
      "source": [
        "# **2. PERSIAPAN**"
      ]
    },
    {
      "cell_type": "markdown",
      "metadata": {
        "id": "Pko5ArG8AQoO"
      },
      "source": [
        "#### **2.1 Import Libraries**\n",
        "Bagian ini berisi semua library penting yang diperlukan untuk analisis data, feature engineering, modeling, dan evaluasi, seperti Pandas, Numpy, dan Scikit-learn."
      ]
    },
    {
      "cell_type": "code",
      "execution_count": 147,
      "metadata": {
        "id": "hmbkTnKSAkrG"
      },
      "outputs": [],
      "source": [
        "import numpy as np\n",
        "import pandas as pd\n",
        "import pickle as pkl\n",
        "import warnings\n",
        "\n",
        "import matplotlib.pyplot as plt\n",
        "import seaborn as sns\n",
        "\n",
        "from sklearn.feature_selection import mutual_info_classif\n",
        "import hdbscan\n",
        "from sklearn.model_selection import cross_val_score, KFold, train_test_split, RandomizedSearchCV\n",
        "from sklearn.ensemble import RandomForestClassifier\n",
        "from sklearn.metrics import f1_score\n",
        "from sklearn.preprocessing import StandardScaler\n",
        "from sklearn.cluster import KMeans, DBSCAN\n",
        "\n",
        "\n",
        "warnings.filterwarnings('ignore')\n",
        "%matplotlib inline"
      ]
    },
    {
      "cell_type": "markdown",
      "metadata": {
        "id": "IXYcgSxIATyV"
      },
      "source": [
        "#### **2.2 Load Data**\n",
        "Dataset yang sudah digabungkanm diimputasi, dan disiapkan di notebook sebelumnya, dimuat untuk memulai proses machine learning."
      ]
    },
    {
      "cell_type": "code",
      "execution_count": 148,
      "metadata": {
        "id": "H2hcrdocAZ9d"
      },
      "outputs": [],
      "source": [
        "train_df = pd.read_csv('Data/train.csv')\n",
        "test_df = pd.read_csv('Data/test.csv')"
      ]
    },
    {
      "cell_type": "markdown",
      "metadata": {
        "id": "RKrinqBmJ2Hm"
      },
      "source": [
        "#### **2.3 Initialize**\n",
        "Menginisialisasi seed dan target prediksi dari data"
      ]
    },
    {
      "cell_type": "code",
      "execution_count": 149,
      "metadata": {
        "id": "407EiN05JzDO"
      },
      "outputs": [],
      "source": [
        "warnings.filterwarnings('ignore')\n",
        "SEED   = 42\n",
        "TARGET = 'economic_day_status'"
      ]
    },
    {
      "cell_type": "markdown",
      "metadata": {},
      "source": [
        "##### **2.4 Helper Function**"
      ]
    },
    {
      "cell_type": "code",
      "execution_count": 150,
      "metadata": {},
      "outputs": [],
      "source": [
        "def make_mi_scores(X, y):\n",
        "    mi_scores = mutual_info_classif(X, y)\n",
        "    mi_scores = pd.Series(mi_scores, name=\"MI Scores\", index=X.columns)\n",
        "    mi_scores = mi_scores.sort_values(ascending=False)\n",
        "    return mi_scores\n",
        "\n",
        "def plot_mi_scores(scores):\n",
        "    scores = scores.sort_values(ascending=True)\n",
        "    width = np.arange(len(scores))\n",
        "    ticks = list(scores.index)\n",
        "    plt.barh(width, scores)\n",
        "    plt.yticks(width, ticks)\n",
        "    plt.title(\"Mutual Information Scores\")"
      ]
    },
    {
      "cell_type": "markdown",
      "metadata": {
        "id": "2GhgIeDrA5DF"
      },
      "source": [
        "# **3. PRE-PROCESSING**"
      ]
    },
    {
      "cell_type": "markdown",
      "metadata": {
        "id": "syfiS8ZpCYym"
      },
      "source": [
        "#### **3.1 Feature Engineering**\n",
        "Fitur-fitur baru yang lebih informatif, seperti rasio ekspor-impor dan volume perdagangan, dibuat dari kolom yang sudah ada untuk meningkatkan kekuatan prediktif model."
      ]
    },
    {
      "cell_type": "code",
      "execution_count": 151,
      "metadata": {
        "id": "E6hqpdybD0bG"
      },
      "outputs": [],
      "source": [
        "# Impute ID\n",
        "train_df[\"id\"] = train_df[\"country_code\"] + \"_\" + train_df[\"date\"].str.replace(\"-\", \"\", regex=False)\n",
        "train_df.set_index(\"id\", inplace=True)\n",
        "\n",
        "test_df[\"id\"] = test_df[\"country_code\"] + \"_\" + test_df[\"date\"].str.replace(\"-\", \"\", regex=False)\n",
        "test_df.set_index(\"id\", inplace=True)"
      ]
    },
    {
      "cell_type": "code",
      "execution_count": 152,
      "metadata": {
        "id": "uxH2xsYVEohQ"
      },
      "outputs": [],
      "source": [
        "# Menghilangkan Sisa Missing Values Apabila Ada\n",
        "missing_counts = train_df.isna().sum()\n",
        "missing_cols = missing_counts[missing_counts > 0].index"
      ]
    },
    {
      "cell_type": "code",
      "execution_count": 153,
      "metadata": {
        "id": "Uy9e4AB0FC3X"
      },
      "outputs": [],
      "source": [
        "# Convert 'Date' Feature into a DateTime\n",
        "train_df[\"date\"] = pd.to_datetime(train_df[\"date\"])\n",
        "test_df[\"date\"]  = pd.to_datetime(test_df[\"date\"])"
      ]
    },
    {
      "cell_type": "code",
      "execution_count": null,
      "metadata": {
        "id": "2PToa3hCIEiW"
      },
      "outputs": [],
      "source": [
        "def detailed_feature_engineering(data):\n",
        "    # 1. Lagged Features\n",
        "    data['inflation_rate_lag_1'] = data['inflation_rate'].shift(1)\n",
        "    data['unemployment_rate_lag_1'] = data['unemployment_rate'].shift(1)\n",
        "    data['exchange_rate_lag_1'] = data['exchange_rate'].shift(1)\n",
        "    data['business_confidence_index_lag_1'] = data['business_confidence_index'].shift(1)\n",
        "    data['inflation_rate_lag_1'] = data['inflation_rate_lag_1'].fillna(0)\n",
        "    data['unemployment_rate_lag_1'] = data['unemployment_rate_lag_1'].fillna(0)\n",
        "    data['exchange_rate_lag_1'] = data['exchange_rate_lag_1'].fillna(0)\n",
        "    data['business_confidence_index_lag_1'] = data['business_confidence_index_lag_1'].fillna(0)\n",
        "\n",
        "    # 2. Moving Averages (using a 7-day window)\n",
        "    data['inflation_rate_ma_7']    = data['inflation_rate'].rolling(window=7).mean()\n",
        "    data['unemployment_rate_ma_7'] = data['unemployment_rate'].rolling(window=7).mean()\n",
        "    data['inflation_rate_ma_7']    = data['inflation_rate_ma_7'].fillna(0)\n",
        "    data['unemployment_rate_ma_7'] = data['unemployment_rate_ma_7'].fillna(0)\n",
        "\n",
        "    # 3. Rate of Change / Momentum\n",
        "    data['inflation_rate_pct_change']  = data['inflation_rate'].pct_change()\n",
        "    data['exchange_rate_daily_change'] = data['exchange_rate'].diff()\n",
        "    data['biz_confidence_change']      = data['business_confidence_index'].diff()\n",
        "    data['inflation_rate_pct_change']  = data['inflation_rate_pct_change'].fillna(0)\n",
        "    data['exchange_rate_daily_change'] = data['exchange_rate_daily_change'].fillna(0)\n",
        "    data['biz_confidence_change']      = data['biz_confidence_change'].fillna(0)\n",
        "\n",
        "    # 4. Interaction & Ratio Features\n",
        "    data['exports_imports_ratio']    = data['exports_usd'] / data['imports_usd']\n",
        "    data['debt_gdp_x_interest_rate'] = data['debt_gdp_ratio'] * data['interest_rate']\n",
        "\n",
        "    # 5. Volatility Features (using a 7-day standard deviation)\n",
        "    data['exchange_rate_std_7'] = data['exchange_rate'].rolling(window=7).std()\n",
        "    data['exchange_rate_std_7'] = data['exchange_rate_std_7'].fillna(0)\n",
        "\n",
        "    # 6. Threshold-based Binary Features\n",
        "    data['high_inflation']    = np.where(data['inflation_rate'] > 0.05, 1, 0)\n",
        "    data['high_unemployment'] = np.where(data['unemployment_rate'] > 0.06, 1, 0)\n",
        "\n",
        "    # 8. Modify the Categorical Variables\n",
        "    data[\"trade_bloc\"]           =  data[\"trade_bloc\"].fillna(\"No Bloc\")\n",
        "    data[\"is_crisis_event\"]      = ~data[\"crisis_event\"].isna()\n",
        "    data[\"trade_balance_status\"] =  data[\"trade_balance_status\"].replace({\n",
        "        \"Deficit\":-1,\n",
        "        \"Neutral\":0,\n",
        "        \"Surplus\":1\n",
        "    })\n",
        "    data[\"political_stability\"] = data[\"political_stability\"].replace({\n",
        "        \"Unstable\":-1,\n",
        "        \"Moderate\":0,\n",
        "        \"Stable\":1\n",
        "    })\n",
        "    data[\"migration_trend\"] = data[\"migration_trend\"].replace({\n",
        "        \"Outflow\":-1,\n",
        "        \"Neutral\":0,\n",
        "        \"Inflow\":1\n",
        "    })\n",
        "    data[\"income_group\"] = data[\"income_group\"].replace({\n",
        "        \"Low\":-1,\n",
        "        \"Lower-Middle\":0,\n",
        "        \"Upper-Middle\":1\n",
        "    })\n",
        "    data[\"governance_quality\"] = data[\"governance_quality\"].replace({\n",
        "        \"Low\":-1,\n",
        "        \"Medium\":0,\n",
        "        \"High\":1\n",
        "    })\n",
        "    data[\"climate_impact_level\"] = data[\"climate_impact_level\"].replace({\n",
        "        \"Low\":-1,\n",
        "        \"Medium\":0,\n",
        "        \"High\":1\n",
        "    })\n",
        "    data[\"financial_access\"] = data[\"financial_access\"].replace({\n",
        "        \"Low\":-1,\n",
        "        \"Medium\":0,\n",
        "        \"High\":1\n",
        "    })\n",
        "    \n",
        "    # 9.Clustering\n",
        "    # Economic\n",
        "    # features = [\"inflation_rate\", \"unemployment_rate\", \"exchange_rate\"]\n",
        "    # scaler = StandardScaler()\n",
        "    # X_scaled = scaler.fit_transform(data[features].fillna(0))\n",
        "    # dbscan = hdbscan.HDBSCAN(\n",
        "    #     min_cluster_size=100,      # cluster minimal 100 titik (biar stabil)\n",
        "    #     min_samples=10,            # lebih konservatif dari default 5\n",
        "    #     metric=\"euclidean\",        # umum & stabil setelah scaling\n",
        "    #     cluster_selection_method=\"eom\",  # default, lebih adaptif\n",
        "    #     core_dist_n_jobs=-1        # pakai semua core CPU\n",
        "    # )\n",
        "    # clusters = dbscan.fit_predict(X_scaled)\n",
        "    # data['economic'] = clusters\n",
        "\n",
        "\n",
        "    return data"
      ]
    },
    {
      "cell_type": "code",
      "execution_count": 155,
      "metadata": {},
      "outputs": [
        {
          "data": {
            "text/plain": [
              "Index(['country_code', 'region', 'income_group', 'trade_balance_status',\n",
              "       'political_stability', 'economic_sector_dominant', 'currency_type',\n",
              "       'policy_framework', 'season', 'crisis_event', 'governance_quality',\n",
              "       'climate_impact_level', 'trade_bloc', 'financial_access',\n",
              "       'migration_trend', 'date', 'year', 'quarter', 'gdp_per_capita',\n",
              "       'inflation_rate', 'unemployment_rate', 'interest_rate', 'exchange_rate',\n",
              "       'exports_usd', 'imports_usd', 'debt_gdp_ratio', 'investment_pct_gdp',\n",
              "       'consumption_pct_gdp', 'population_million', 'urbanization_pct',\n",
              "       'internet_penetration', 'energy_consumption_mwh',\n",
              "       'renewable_energy_pct', 'income_inequality_gini', 'education_index',\n",
              "       'healthcare_index', 'poverty_rate', 'fdi_inflows_usd',\n",
              "       'business_confidence_index', 'manufacturing_pmi',\n",
              "       'economic_day_status'],\n",
              "      dtype='object')"
            ]
          },
          "execution_count": 155,
          "metadata": {},
          "output_type": "execute_result"
        }
      ],
      "source": [
        "train_df.columns"
      ]
    },
    {
      "cell_type": "code",
      "execution_count": 156,
      "metadata": {
        "id": "j266lbQaHxfo"
      },
      "outputs": [],
      "source": [
        "# Train Data\n",
        "train_df = detailed_feature_engineering(train_df)\n",
        "# Test Data\n",
        "test_df  = detailed_feature_engineering(test_df)"
      ]
    },
    {
      "cell_type": "markdown",
      "metadata": {
        "id": "D7sY8MvlCha-"
      },
      "source": [
        "#### **3.2 Encoding**\n",
        "Semua fitur kategorikal (misalnya, trade_balance_status dan policy_framework) diubah menjadi format numerik menggunakan One-Hot Encoding, menjadikannya siap untuk diproses oleh model."
      ]
    },
    {
      "cell_type": "code",
      "execution_count": 157,
      "metadata": {
        "id": "GLPfQkXvD2fm"
      },
      "outputs": [],
      "source": [
        "train_df = train_df.drop(columns=['season', 'crisis_event', \"date\"])\n",
        "test_df  = test_df.drop( columns=['season', 'crisis_event', \"date\"])\n",
        "\n",
        "num_cols = train_df.select_dtypes(exclude=\"object\").columns\n",
        "cat_cols = train_df.select_dtypes(include=\"object\").columns\n",
        "\n",
        "cat_cols = [col for col in cat_cols if col not in [TARGET]]\n",
        "\n",
        "train_df = pd.get_dummies(train_df, columns=cat_cols)\n",
        "test_df  = pd.get_dummies(test_df,  columns=cat_cols)"
      ]
    },
    {
      "cell_type": "markdown",
      "metadata": {
        "id": "haGFB0ixJKC2"
      },
      "source": [
        "#### **3.3 Data Splitting**"
      ]
    },
    {
      "cell_type": "code",
      "execution_count": 158,
      "metadata": {
        "id": "lCuCFvjMJJLW"
      },
      "outputs": [],
      "source": [
        "X = train_df.drop(columns=TARGET)\n",
        "y = train_df[TARGET]\n",
        "\n",
        "X_train, X_test, y_train, y_test = train_test_split(X, y, test_size=0.2, random_state=SEED)"
      ]
    },
    {
      "cell_type": "markdown",
      "metadata": {},
      "source": [
        "#### **3.4 Data Evaluation**"
      ]
    },
    {
      "cell_type": "code",
      "execution_count": 159,
      "metadata": {},
      "outputs": [],
      "source": [
        "# mi_scores = make_mi_scores(X,y)"
      ]
    },
    {
      "cell_type": "code",
      "execution_count": 160,
      "metadata": {},
      "outputs": [],
      "source": [
        "# mi_scores.sort_values(ascending=False)"
      ]
    },
    {
      "cell_type": "code",
      "execution_count": 161,
      "metadata": {},
      "outputs": [],
      "source": [
        "# plot_mi_scores(mi_scores[::3])"
      ]
    },
    {
      "cell_type": "markdown",
      "metadata": {
        "id": "AFR-HgHiCsBO"
      },
      "source": [
        "# ***4. Modeling***"
      ]
    },
    {
      "cell_type": "markdown",
      "metadata": {
        "id": "mj5MW2wIC2F1"
      },
      "source": [
        "#### **4.1 Pemilihan Model**\n",
        "Model Random Forest Classifier dipilih karena kekuatannya dalam menangani dataset yang bervariasi dan kemampuannya dalam memitigasi overfitting."
      ]
    },
    {
      "cell_type": "code",
      "execution_count": null,
      "metadata": {
        "id": "bF7ooao9YM8Y"
      },
      "outputs": [],
      "source": []
    },
    {
      "cell_type": "markdown",
      "metadata": {
        "id": "G2KwZ3XCC4YO"
      },
      "source": [
        "#### **4.2 Hyperparameter Tuning**\n",
        "Kami menggunakan Randomized Search untuk mencari kombinasi hyperparameter terbaik (n_estimators, max_depth, dll.) secara efisien. Metode ini dipilih untuk menghemat waktu komputasi secara signifikan tanpa mengorbankan performa model."
      ]
    },
    {
      "cell_type": "code",
      "execution_count": 162,
      "metadata": {
        "id": "Ci4pj-6WD6OG"
      },
      "outputs": [],
      "source": [
        "# Encode target\n",
        "mapping = {\"Low\": 0, \"Medium\": 1, \"High\": 2}\n",
        "y_train = y_train.replace(mapping).astype(\"int32\")\n",
        "y_test  = y_test.replace(mapping).astype(\"int32\")\n",
        "\n",
        "# # Random Forest Model\n",
        "# rf = RandomForestClassifier()"
      ]
    },
    {
      "cell_type": "code",
      "execution_count": 163,
      "metadata": {
        "id": "Ye4wzawdRZDR"
      },
      "outputs": [],
      "source": [
        "# # Generate hyperparams\n",
        "# param_grid = {\n",
        "#     \"n_estimators\": [200, 500, 1000, 1200, 1500],\n",
        "#     \"max_depth\": [13, 15, 17, 20],\n",
        "#     \"max_features\": [\"sqrt\", \"log2\"],\n",
        "#     \"min_samples_split\": [2, 5, 12, 14],\n",
        "#     \"min_samples_leaf\": [1, 2, 4],\n",
        "#     \"bootstrap\": [True, False],\n",
        "#     \"n_jobs\": [-1],\n",
        "#     \"random_state\": [SEED]\n",
        "# }"
      ]
    },
    {
      "cell_type": "code",
      "execution_count": 164,
      "metadata": {
        "id": "1khxspNjRZvs"
      },
      "outputs": [],
      "source": [
        "# # Search for the best params\n",
        "# random_search = RandomizedSearchCV(\n",
        "#     estimator=rf,\n",
        "#     param_distributions=param_grid,\n",
        "#     n_iter=50,\n",
        "#     scoring=\"f1_macro\",\n",
        "#     cv=3,\n",
        "#     verbose=2,\n",
        "#     random_state=SEED,\n",
        "#     n_jobs=-1\n",
        "# )\n",
        "\n",
        "# # Fit to search best params\n",
        "# random_search.fit(X_train, y_train)"
      ]
    },
    {
      "cell_type": "code",
      "execution_count": 165,
      "metadata": {
        "id": "TWflB-sTPX4S"
      },
      "outputs": [],
      "source": [
        "# print(\"Best parameters found:\", random_search.best_params_)\n",
        "# print(\"Best CV F1-macro:\", random_search.best_score_)"
      ]
    },
    {
      "cell_type": "markdown",
      "metadata": {
        "id": "X4ehXRWsC7Iu"
      },
      "source": [
        "#### **4.3 Training Model**\n",
        "Model Random Forest dilatih menggunakan hyperparameter terbaik yang ditemukan dari tahap tuning."
      ]
    },
    {
      "cell_type": "code",
      "execution_count": 166,
      "metadata": {
        "id": "K6G0mdZgRJ04"
      },
      "outputs": [],
      "source": [
        "# # Initialize a new RF with the best parameters\n",
        "# rf_best = RandomForestClassifier(**random_search.best_params_)\n",
        "\n",
        "# # Fit the new model to the training data\n",
        "# rf_best.fit(X_train, y_train)"
      ]
    },
    {
      "cell_type": "code",
      "execution_count": 167,
      "metadata": {
        "id": "xgNo6D3hZofD"
      },
      "outputs": [
        {
          "data": {
            "text/html": [
              "<style>#sk-container-id-7 {\n",
              "  /* Definition of color scheme common for light and dark mode */\n",
              "  --sklearn-color-text: #000;\n",
              "  --sklearn-color-text-muted: #666;\n",
              "  --sklearn-color-line: gray;\n",
              "  /* Definition of color scheme for unfitted estimators */\n",
              "  --sklearn-color-unfitted-level-0: #fff5e6;\n",
              "  --sklearn-color-unfitted-level-1: #f6e4d2;\n",
              "  --sklearn-color-unfitted-level-2: #ffe0b3;\n",
              "  --sklearn-color-unfitted-level-3: chocolate;\n",
              "  /* Definition of color scheme for fitted estimators */\n",
              "  --sklearn-color-fitted-level-0: #f0f8ff;\n",
              "  --sklearn-color-fitted-level-1: #d4ebff;\n",
              "  --sklearn-color-fitted-level-2: #b3dbfd;\n",
              "  --sklearn-color-fitted-level-3: cornflowerblue;\n",
              "\n",
              "  /* Specific color for light theme */\n",
              "  --sklearn-color-text-on-default-background: var(--sg-text-color, var(--theme-code-foreground, var(--jp-content-font-color1, black)));\n",
              "  --sklearn-color-background: var(--sg-background-color, var(--theme-background, var(--jp-layout-color0, white)));\n",
              "  --sklearn-color-border-box: var(--sg-text-color, var(--theme-code-foreground, var(--jp-content-font-color1, black)));\n",
              "  --sklearn-color-icon: #696969;\n",
              "\n",
              "  @media (prefers-color-scheme: dark) {\n",
              "    /* Redefinition of color scheme for dark theme */\n",
              "    --sklearn-color-text-on-default-background: var(--sg-text-color, var(--theme-code-foreground, var(--jp-content-font-color1, white)));\n",
              "    --sklearn-color-background: var(--sg-background-color, var(--theme-background, var(--jp-layout-color0, #111)));\n",
              "    --sklearn-color-border-box: var(--sg-text-color, var(--theme-code-foreground, var(--jp-content-font-color1, white)));\n",
              "    --sklearn-color-icon: #878787;\n",
              "  }\n",
              "}\n",
              "\n",
              "#sk-container-id-7 {\n",
              "  color: var(--sklearn-color-text);\n",
              "}\n",
              "\n",
              "#sk-container-id-7 pre {\n",
              "  padding: 0;\n",
              "}\n",
              "\n",
              "#sk-container-id-7 input.sk-hidden--visually {\n",
              "  border: 0;\n",
              "  clip: rect(1px 1px 1px 1px);\n",
              "  clip: rect(1px, 1px, 1px, 1px);\n",
              "  height: 1px;\n",
              "  margin: -1px;\n",
              "  overflow: hidden;\n",
              "  padding: 0;\n",
              "  position: absolute;\n",
              "  width: 1px;\n",
              "}\n",
              "\n",
              "#sk-container-id-7 div.sk-dashed-wrapped {\n",
              "  border: 1px dashed var(--sklearn-color-line);\n",
              "  margin: 0 0.4em 0.5em 0.4em;\n",
              "  box-sizing: border-box;\n",
              "  padding-bottom: 0.4em;\n",
              "  background-color: var(--sklearn-color-background);\n",
              "}\n",
              "\n",
              "#sk-container-id-7 div.sk-container {\n",
              "  /* jupyter's `normalize.less` sets `[hidden] { display: none; }`\n",
              "     but bootstrap.min.css set `[hidden] { display: none !important; }`\n",
              "     so we also need the `!important` here to be able to override the\n",
              "     default hidden behavior on the sphinx rendered scikit-learn.org.\n",
              "     See: https://github.com/scikit-learn/scikit-learn/issues/21755 */\n",
              "  display: inline-block !important;\n",
              "  position: relative;\n",
              "}\n",
              "\n",
              "#sk-container-id-7 div.sk-text-repr-fallback {\n",
              "  display: none;\n",
              "}\n",
              "\n",
              "div.sk-parallel-item,\n",
              "div.sk-serial,\n",
              "div.sk-item {\n",
              "  /* draw centered vertical line to link estimators */\n",
              "  background-image: linear-gradient(var(--sklearn-color-text-on-default-background), var(--sklearn-color-text-on-default-background));\n",
              "  background-size: 2px 100%;\n",
              "  background-repeat: no-repeat;\n",
              "  background-position: center center;\n",
              "}\n",
              "\n",
              "/* Parallel-specific style estimator block */\n",
              "\n",
              "#sk-container-id-7 div.sk-parallel-item::after {\n",
              "  content: \"\";\n",
              "  width: 100%;\n",
              "  border-bottom: 2px solid var(--sklearn-color-text-on-default-background);\n",
              "  flex-grow: 1;\n",
              "}\n",
              "\n",
              "#sk-container-id-7 div.sk-parallel {\n",
              "  display: flex;\n",
              "  align-items: stretch;\n",
              "  justify-content: center;\n",
              "  background-color: var(--sklearn-color-background);\n",
              "  position: relative;\n",
              "}\n",
              "\n",
              "#sk-container-id-7 div.sk-parallel-item {\n",
              "  display: flex;\n",
              "  flex-direction: column;\n",
              "}\n",
              "\n",
              "#sk-container-id-7 div.sk-parallel-item:first-child::after {\n",
              "  align-self: flex-end;\n",
              "  width: 50%;\n",
              "}\n",
              "\n",
              "#sk-container-id-7 div.sk-parallel-item:last-child::after {\n",
              "  align-self: flex-start;\n",
              "  width: 50%;\n",
              "}\n",
              "\n",
              "#sk-container-id-7 div.sk-parallel-item:only-child::after {\n",
              "  width: 0;\n",
              "}\n",
              "\n",
              "/* Serial-specific style estimator block */\n",
              "\n",
              "#sk-container-id-7 div.sk-serial {\n",
              "  display: flex;\n",
              "  flex-direction: column;\n",
              "  align-items: center;\n",
              "  background-color: var(--sklearn-color-background);\n",
              "  padding-right: 1em;\n",
              "  padding-left: 1em;\n",
              "}\n",
              "\n",
              "\n",
              "/* Toggleable style: style used for estimator/Pipeline/ColumnTransformer box that is\n",
              "clickable and can be expanded/collapsed.\n",
              "- Pipeline and ColumnTransformer use this feature and define the default style\n",
              "- Estimators will overwrite some part of the style using the `sk-estimator` class\n",
              "*/\n",
              "\n",
              "/* Pipeline and ColumnTransformer style (default) */\n",
              "\n",
              "#sk-container-id-7 div.sk-toggleable {\n",
              "  /* Default theme specific background. It is overwritten whether we have a\n",
              "  specific estimator or a Pipeline/ColumnTransformer */\n",
              "  background-color: var(--sklearn-color-background);\n",
              "}\n",
              "\n",
              "/* Toggleable label */\n",
              "#sk-container-id-7 label.sk-toggleable__label {\n",
              "  cursor: pointer;\n",
              "  display: flex;\n",
              "  width: 100%;\n",
              "  margin-bottom: 0;\n",
              "  padding: 0.5em;\n",
              "  box-sizing: border-box;\n",
              "  text-align: center;\n",
              "  align-items: start;\n",
              "  justify-content: space-between;\n",
              "  gap: 0.5em;\n",
              "}\n",
              "\n",
              "#sk-container-id-7 label.sk-toggleable__label .caption {\n",
              "  font-size: 0.6rem;\n",
              "  font-weight: lighter;\n",
              "  color: var(--sklearn-color-text-muted);\n",
              "}\n",
              "\n",
              "#sk-container-id-7 label.sk-toggleable__label-arrow:before {\n",
              "  /* Arrow on the left of the label */\n",
              "  content: \"▸\";\n",
              "  float: left;\n",
              "  margin-right: 0.25em;\n",
              "  color: var(--sklearn-color-icon);\n",
              "}\n",
              "\n",
              "#sk-container-id-7 label.sk-toggleable__label-arrow:hover:before {\n",
              "  color: var(--sklearn-color-text);\n",
              "}\n",
              "\n",
              "/* Toggleable content - dropdown */\n",
              "\n",
              "#sk-container-id-7 div.sk-toggleable__content {\n",
              "  display: none;\n",
              "  text-align: left;\n",
              "  /* unfitted */\n",
              "  background-color: var(--sklearn-color-unfitted-level-0);\n",
              "}\n",
              "\n",
              "#sk-container-id-7 div.sk-toggleable__content.fitted {\n",
              "  /* fitted */\n",
              "  background-color: var(--sklearn-color-fitted-level-0);\n",
              "}\n",
              "\n",
              "#sk-container-id-7 div.sk-toggleable__content pre {\n",
              "  margin: 0.2em;\n",
              "  border-radius: 0.25em;\n",
              "  color: var(--sklearn-color-text);\n",
              "  /* unfitted */\n",
              "  background-color: var(--sklearn-color-unfitted-level-0);\n",
              "}\n",
              "\n",
              "#sk-container-id-7 div.sk-toggleable__content.fitted pre {\n",
              "  /* unfitted */\n",
              "  background-color: var(--sklearn-color-fitted-level-0);\n",
              "}\n",
              "\n",
              "#sk-container-id-7 input.sk-toggleable__control:checked~div.sk-toggleable__content {\n",
              "  /* Expand drop-down */\n",
              "  display: block;\n",
              "  width: 100%;\n",
              "  overflow: visible;\n",
              "}\n",
              "\n",
              "#sk-container-id-7 input.sk-toggleable__control:checked~label.sk-toggleable__label-arrow:before {\n",
              "  content: \"▾\";\n",
              "}\n",
              "\n",
              "/* Pipeline/ColumnTransformer-specific style */\n",
              "\n",
              "#sk-container-id-7 div.sk-label input.sk-toggleable__control:checked~label.sk-toggleable__label {\n",
              "  color: var(--sklearn-color-text);\n",
              "  background-color: var(--sklearn-color-unfitted-level-2);\n",
              "}\n",
              "\n",
              "#sk-container-id-7 div.sk-label.fitted input.sk-toggleable__control:checked~label.sk-toggleable__label {\n",
              "  background-color: var(--sklearn-color-fitted-level-2);\n",
              "}\n",
              "\n",
              "/* Estimator-specific style */\n",
              "\n",
              "/* Colorize estimator box */\n",
              "#sk-container-id-7 div.sk-estimator input.sk-toggleable__control:checked~label.sk-toggleable__label {\n",
              "  /* unfitted */\n",
              "  background-color: var(--sklearn-color-unfitted-level-2);\n",
              "}\n",
              "\n",
              "#sk-container-id-7 div.sk-estimator.fitted input.sk-toggleable__control:checked~label.sk-toggleable__label {\n",
              "  /* fitted */\n",
              "  background-color: var(--sklearn-color-fitted-level-2);\n",
              "}\n",
              "\n",
              "#sk-container-id-7 div.sk-label label.sk-toggleable__label,\n",
              "#sk-container-id-7 div.sk-label label {\n",
              "  /* The background is the default theme color */\n",
              "  color: var(--sklearn-color-text-on-default-background);\n",
              "}\n",
              "\n",
              "/* On hover, darken the color of the background */\n",
              "#sk-container-id-7 div.sk-label:hover label.sk-toggleable__label {\n",
              "  color: var(--sklearn-color-text);\n",
              "  background-color: var(--sklearn-color-unfitted-level-2);\n",
              "}\n",
              "\n",
              "/* Label box, darken color on hover, fitted */\n",
              "#sk-container-id-7 div.sk-label.fitted:hover label.sk-toggleable__label.fitted {\n",
              "  color: var(--sklearn-color-text);\n",
              "  background-color: var(--sklearn-color-fitted-level-2);\n",
              "}\n",
              "\n",
              "/* Estimator label */\n",
              "\n",
              "#sk-container-id-7 div.sk-label label {\n",
              "  font-family: monospace;\n",
              "  font-weight: bold;\n",
              "  display: inline-block;\n",
              "  line-height: 1.2em;\n",
              "}\n",
              "\n",
              "#sk-container-id-7 div.sk-label-container {\n",
              "  text-align: center;\n",
              "}\n",
              "\n",
              "/* Estimator-specific */\n",
              "#sk-container-id-7 div.sk-estimator {\n",
              "  font-family: monospace;\n",
              "  border: 1px dotted var(--sklearn-color-border-box);\n",
              "  border-radius: 0.25em;\n",
              "  box-sizing: border-box;\n",
              "  margin-bottom: 0.5em;\n",
              "  /* unfitted */\n",
              "  background-color: var(--sklearn-color-unfitted-level-0);\n",
              "}\n",
              "\n",
              "#sk-container-id-7 div.sk-estimator.fitted {\n",
              "  /* fitted */\n",
              "  background-color: var(--sklearn-color-fitted-level-0);\n",
              "}\n",
              "\n",
              "/* on hover */\n",
              "#sk-container-id-7 div.sk-estimator:hover {\n",
              "  /* unfitted */\n",
              "  background-color: var(--sklearn-color-unfitted-level-2);\n",
              "}\n",
              "\n",
              "#sk-container-id-7 div.sk-estimator.fitted:hover {\n",
              "  /* fitted */\n",
              "  background-color: var(--sklearn-color-fitted-level-2);\n",
              "}\n",
              "\n",
              "/* Specification for estimator info (e.g. \"i\" and \"?\") */\n",
              "\n",
              "/* Common style for \"i\" and \"?\" */\n",
              "\n",
              ".sk-estimator-doc-link,\n",
              "a:link.sk-estimator-doc-link,\n",
              "a:visited.sk-estimator-doc-link {\n",
              "  float: right;\n",
              "  font-size: smaller;\n",
              "  line-height: 1em;\n",
              "  font-family: monospace;\n",
              "  background-color: var(--sklearn-color-background);\n",
              "  border-radius: 1em;\n",
              "  height: 1em;\n",
              "  width: 1em;\n",
              "  text-decoration: none !important;\n",
              "  margin-left: 0.5em;\n",
              "  text-align: center;\n",
              "  /* unfitted */\n",
              "  border: var(--sklearn-color-unfitted-level-1) 1pt solid;\n",
              "  color: var(--sklearn-color-unfitted-level-1);\n",
              "}\n",
              "\n",
              ".sk-estimator-doc-link.fitted,\n",
              "a:link.sk-estimator-doc-link.fitted,\n",
              "a:visited.sk-estimator-doc-link.fitted {\n",
              "  /* fitted */\n",
              "  border: var(--sklearn-color-fitted-level-1) 1pt solid;\n",
              "  color: var(--sklearn-color-fitted-level-1);\n",
              "}\n",
              "\n",
              "/* On hover */\n",
              "div.sk-estimator:hover .sk-estimator-doc-link:hover,\n",
              ".sk-estimator-doc-link:hover,\n",
              "div.sk-label-container:hover .sk-estimator-doc-link:hover,\n",
              ".sk-estimator-doc-link:hover {\n",
              "  /* unfitted */\n",
              "  background-color: var(--sklearn-color-unfitted-level-3);\n",
              "  color: var(--sklearn-color-background);\n",
              "  text-decoration: none;\n",
              "}\n",
              "\n",
              "div.sk-estimator.fitted:hover .sk-estimator-doc-link.fitted:hover,\n",
              ".sk-estimator-doc-link.fitted:hover,\n",
              "div.sk-label-container:hover .sk-estimator-doc-link.fitted:hover,\n",
              ".sk-estimator-doc-link.fitted:hover {\n",
              "  /* fitted */\n",
              "  background-color: var(--sklearn-color-fitted-level-3);\n",
              "  color: var(--sklearn-color-background);\n",
              "  text-decoration: none;\n",
              "}\n",
              "\n",
              "/* Span, style for the box shown on hovering the info icon */\n",
              ".sk-estimator-doc-link span {\n",
              "  display: none;\n",
              "  z-index: 9999;\n",
              "  position: relative;\n",
              "  font-weight: normal;\n",
              "  right: .2ex;\n",
              "  padding: .5ex;\n",
              "  margin: .5ex;\n",
              "  width: min-content;\n",
              "  min-width: 20ex;\n",
              "  max-width: 50ex;\n",
              "  color: var(--sklearn-color-text);\n",
              "  box-shadow: 2pt 2pt 4pt #999;\n",
              "  /* unfitted */\n",
              "  background: var(--sklearn-color-unfitted-level-0);\n",
              "  border: .5pt solid var(--sklearn-color-unfitted-level-3);\n",
              "}\n",
              "\n",
              ".sk-estimator-doc-link.fitted span {\n",
              "  /* fitted */\n",
              "  background: var(--sklearn-color-fitted-level-0);\n",
              "  border: var(--sklearn-color-fitted-level-3);\n",
              "}\n",
              "\n",
              ".sk-estimator-doc-link:hover span {\n",
              "  display: block;\n",
              "}\n",
              "\n",
              "/* \"?\"-specific style due to the `<a>` HTML tag */\n",
              "\n",
              "#sk-container-id-7 a.estimator_doc_link {\n",
              "  float: right;\n",
              "  font-size: 1rem;\n",
              "  line-height: 1em;\n",
              "  font-family: monospace;\n",
              "  background-color: var(--sklearn-color-background);\n",
              "  border-radius: 1rem;\n",
              "  height: 1rem;\n",
              "  width: 1rem;\n",
              "  text-decoration: none;\n",
              "  /* unfitted */\n",
              "  color: var(--sklearn-color-unfitted-level-1);\n",
              "  border: var(--sklearn-color-unfitted-level-1) 1pt solid;\n",
              "}\n",
              "\n",
              "#sk-container-id-7 a.estimator_doc_link.fitted {\n",
              "  /* fitted */\n",
              "  border: var(--sklearn-color-fitted-level-1) 1pt solid;\n",
              "  color: var(--sklearn-color-fitted-level-1);\n",
              "}\n",
              "\n",
              "/* On hover */\n",
              "#sk-container-id-7 a.estimator_doc_link:hover {\n",
              "  /* unfitted */\n",
              "  background-color: var(--sklearn-color-unfitted-level-3);\n",
              "  color: var(--sklearn-color-background);\n",
              "  text-decoration: none;\n",
              "}\n",
              "\n",
              "#sk-container-id-7 a.estimator_doc_link.fitted:hover {\n",
              "  /* fitted */\n",
              "  background-color: var(--sklearn-color-fitted-level-3);\n",
              "}\n",
              "\n",
              ".estimator-table summary {\n",
              "    padding: .5rem;\n",
              "    font-family: monospace;\n",
              "    cursor: pointer;\n",
              "}\n",
              "\n",
              ".estimator-table details[open] {\n",
              "    padding-left: 0.1rem;\n",
              "    padding-right: 0.1rem;\n",
              "    padding-bottom: 0.3rem;\n",
              "}\n",
              "\n",
              ".estimator-table .parameters-table {\n",
              "    margin-left: auto !important;\n",
              "    margin-right: auto !important;\n",
              "}\n",
              "\n",
              ".estimator-table .parameters-table tr:nth-child(odd) {\n",
              "    background-color: #fff;\n",
              "}\n",
              "\n",
              ".estimator-table .parameters-table tr:nth-child(even) {\n",
              "    background-color: #f6f6f6;\n",
              "}\n",
              "\n",
              ".estimator-table .parameters-table tr:hover {\n",
              "    background-color: #e0e0e0;\n",
              "}\n",
              "\n",
              ".estimator-table table td {\n",
              "    border: 1px solid rgba(106, 105, 104, 0.232);\n",
              "}\n",
              "\n",
              ".user-set td {\n",
              "    color:rgb(255, 94, 0);\n",
              "    text-align: left;\n",
              "}\n",
              "\n",
              ".user-set td.value pre {\n",
              "    color:rgb(255, 94, 0) !important;\n",
              "    background-color: transparent !important;\n",
              "}\n",
              "\n",
              ".default td {\n",
              "    color: black;\n",
              "    text-align: left;\n",
              "}\n",
              "\n",
              ".user-set td i,\n",
              ".default td i {\n",
              "    color: black;\n",
              "}\n",
              "\n",
              ".copy-paste-icon {\n",
              "    background-image: url(data:image/svg+xml;base64,PHN2ZyB4bWxucz0iaHR0cDovL3d3dy53My5vcmcvMjAwMC9zdmciIHZpZXdCb3g9IjAgMCA0NDggNTEyIj48IS0tIUZvbnQgQXdlc29tZSBGcmVlIDYuNy4yIGJ5IEBmb250YXdlc29tZSAtIGh0dHBzOi8vZm9udGF3ZXNvbWUuY29tIExpY2Vuc2UgLSBodHRwczovL2ZvbnRhd2Vzb21lLmNvbS9saWNlbnNlL2ZyZWUgQ29weXJpZ2h0IDIwMjUgRm9udGljb25zLCBJbmMuLS0+PHBhdGggZD0iTTIwOCAwTDMzMi4xIDBjMTIuNyAwIDI0LjkgNS4xIDMzLjkgMTQuMWw2Ny45IDY3LjljOSA5IDE0LjEgMjEuMiAxNC4xIDMzLjlMNDQ4IDMzNmMwIDI2LjUtMjEuNSA0OC00OCA0OGwtMTkyIDBjLTI2LjUgMC00OC0yMS41LTQ4LTQ4bDAtMjg4YzAtMjYuNSAyMS41LTQ4IDQ4LTQ4ek00OCAxMjhsODAgMCAwIDY0LTY0IDAgMCAyNTYgMTkyIDAgMC0zMiA2NCAwIDAgNDhjMCAyNi41LTIxLjUgNDgtNDggNDhMNDggNTEyYy0yNi41IDAtNDgtMjEuNS00OC00OEwwIDE3NmMwLTI2LjUgMjEuNS00OCA0OC00OHoiLz48L3N2Zz4=);\n",
              "    background-repeat: no-repeat;\n",
              "    background-size: 14px 14px;\n",
              "    background-position: 0;\n",
              "    display: inline-block;\n",
              "    width: 14px;\n",
              "    height: 14px;\n",
              "    cursor: pointer;\n",
              "}\n",
              "</style><body><div id=\"sk-container-id-7\" class=\"sk-top-container\"><div class=\"sk-text-repr-fallback\"><pre>RandomForestClassifier(bootstrap=False, class_weight=&#x27;balanced&#x27;, max_depth=17,\n",
              "                       min_samples_leaf=4, min_samples_split=14,\n",
              "                       n_estimators=805, n_jobs=-1, random_state=42)</pre><b>In a Jupyter environment, please rerun this cell to show the HTML representation or trust the notebook. <br />On GitHub, the HTML representation is unable to render, please try loading this page with nbviewer.org.</b></div><div class=\"sk-container\" hidden><div class=\"sk-item\"><div class=\"sk-estimator fitted sk-toggleable\"><input class=\"sk-toggleable__control sk-hidden--visually\" id=\"sk-estimator-id-7\" type=\"checkbox\" checked><label for=\"sk-estimator-id-7\" class=\"sk-toggleable__label fitted sk-toggleable__label-arrow\"><div><div>RandomForestClassifier</div></div><div><a class=\"sk-estimator-doc-link fitted\" rel=\"noreferrer\" target=\"_blank\" href=\"https://scikit-learn.org/1.7/modules/generated/sklearn.ensemble.RandomForestClassifier.html\">?<span>Documentation for RandomForestClassifier</span></a><span class=\"sk-estimator-doc-link fitted\">i<span>Fitted</span></span></div></label><div class=\"sk-toggleable__content fitted\" data-param-prefix=\"\">\n",
              "        <div class=\"estimator-table\">\n",
              "            <details>\n",
              "                <summary>Parameters</summary>\n",
              "                <table class=\"parameters-table\">\n",
              "                  <tbody>\n",
              "                    \n",
              "        <tr class=\"user-set\">\n",
              "            <td><i class=\"copy-paste-icon\"\n",
              "                 onclick=\"copyToClipboard('n_estimators',\n",
              "                          this.parentElement.nextElementSibling)\"\n",
              "            ></i></td>\n",
              "            <td class=\"param\">n_estimators&nbsp;</td>\n",
              "            <td class=\"value\">805</td>\n",
              "        </tr>\n",
              "    \n",
              "\n",
              "        <tr class=\"default\">\n",
              "            <td><i class=\"copy-paste-icon\"\n",
              "                 onclick=\"copyToClipboard('criterion',\n",
              "                          this.parentElement.nextElementSibling)\"\n",
              "            ></i></td>\n",
              "            <td class=\"param\">criterion&nbsp;</td>\n",
              "            <td class=\"value\">&#x27;gini&#x27;</td>\n",
              "        </tr>\n",
              "    \n",
              "\n",
              "        <tr class=\"user-set\">\n",
              "            <td><i class=\"copy-paste-icon\"\n",
              "                 onclick=\"copyToClipboard('max_depth',\n",
              "                          this.parentElement.nextElementSibling)\"\n",
              "            ></i></td>\n",
              "            <td class=\"param\">max_depth&nbsp;</td>\n",
              "            <td class=\"value\">17</td>\n",
              "        </tr>\n",
              "    \n",
              "\n",
              "        <tr class=\"user-set\">\n",
              "            <td><i class=\"copy-paste-icon\"\n",
              "                 onclick=\"copyToClipboard('min_samples_split',\n",
              "                          this.parentElement.nextElementSibling)\"\n",
              "            ></i></td>\n",
              "            <td class=\"param\">min_samples_split&nbsp;</td>\n",
              "            <td class=\"value\">14</td>\n",
              "        </tr>\n",
              "    \n",
              "\n",
              "        <tr class=\"user-set\">\n",
              "            <td><i class=\"copy-paste-icon\"\n",
              "                 onclick=\"copyToClipboard('min_samples_leaf',\n",
              "                          this.parentElement.nextElementSibling)\"\n",
              "            ></i></td>\n",
              "            <td class=\"param\">min_samples_leaf&nbsp;</td>\n",
              "            <td class=\"value\">4</td>\n",
              "        </tr>\n",
              "    \n",
              "\n",
              "        <tr class=\"default\">\n",
              "            <td><i class=\"copy-paste-icon\"\n",
              "                 onclick=\"copyToClipboard('min_weight_fraction_leaf',\n",
              "                          this.parentElement.nextElementSibling)\"\n",
              "            ></i></td>\n",
              "            <td class=\"param\">min_weight_fraction_leaf&nbsp;</td>\n",
              "            <td class=\"value\">0.0</td>\n",
              "        </tr>\n",
              "    \n",
              "\n",
              "        <tr class=\"default\">\n",
              "            <td><i class=\"copy-paste-icon\"\n",
              "                 onclick=\"copyToClipboard('max_features',\n",
              "                          this.parentElement.nextElementSibling)\"\n",
              "            ></i></td>\n",
              "            <td class=\"param\">max_features&nbsp;</td>\n",
              "            <td class=\"value\">&#x27;sqrt&#x27;</td>\n",
              "        </tr>\n",
              "    \n",
              "\n",
              "        <tr class=\"default\">\n",
              "            <td><i class=\"copy-paste-icon\"\n",
              "                 onclick=\"copyToClipboard('max_leaf_nodes',\n",
              "                          this.parentElement.nextElementSibling)\"\n",
              "            ></i></td>\n",
              "            <td class=\"param\">max_leaf_nodes&nbsp;</td>\n",
              "            <td class=\"value\">None</td>\n",
              "        </tr>\n",
              "    \n",
              "\n",
              "        <tr class=\"default\">\n",
              "            <td><i class=\"copy-paste-icon\"\n",
              "                 onclick=\"copyToClipboard('min_impurity_decrease',\n",
              "                          this.parentElement.nextElementSibling)\"\n",
              "            ></i></td>\n",
              "            <td class=\"param\">min_impurity_decrease&nbsp;</td>\n",
              "            <td class=\"value\">0.0</td>\n",
              "        </tr>\n",
              "    \n",
              "\n",
              "        <tr class=\"user-set\">\n",
              "            <td><i class=\"copy-paste-icon\"\n",
              "                 onclick=\"copyToClipboard('bootstrap',\n",
              "                          this.parentElement.nextElementSibling)\"\n",
              "            ></i></td>\n",
              "            <td class=\"param\">bootstrap&nbsp;</td>\n",
              "            <td class=\"value\">False</td>\n",
              "        </tr>\n",
              "    \n",
              "\n",
              "        <tr class=\"default\">\n",
              "            <td><i class=\"copy-paste-icon\"\n",
              "                 onclick=\"copyToClipboard('oob_score',\n",
              "                          this.parentElement.nextElementSibling)\"\n",
              "            ></i></td>\n",
              "            <td class=\"param\">oob_score&nbsp;</td>\n",
              "            <td class=\"value\">False</td>\n",
              "        </tr>\n",
              "    \n",
              "\n",
              "        <tr class=\"user-set\">\n",
              "            <td><i class=\"copy-paste-icon\"\n",
              "                 onclick=\"copyToClipboard('n_jobs',\n",
              "                          this.parentElement.nextElementSibling)\"\n",
              "            ></i></td>\n",
              "            <td class=\"param\">n_jobs&nbsp;</td>\n",
              "            <td class=\"value\">-1</td>\n",
              "        </tr>\n",
              "    \n",
              "\n",
              "        <tr class=\"user-set\">\n",
              "            <td><i class=\"copy-paste-icon\"\n",
              "                 onclick=\"copyToClipboard('random_state',\n",
              "                          this.parentElement.nextElementSibling)\"\n",
              "            ></i></td>\n",
              "            <td class=\"param\">random_state&nbsp;</td>\n",
              "            <td class=\"value\">42</td>\n",
              "        </tr>\n",
              "    \n",
              "\n",
              "        <tr class=\"default\">\n",
              "            <td><i class=\"copy-paste-icon\"\n",
              "                 onclick=\"copyToClipboard('verbose',\n",
              "                          this.parentElement.nextElementSibling)\"\n",
              "            ></i></td>\n",
              "            <td class=\"param\">verbose&nbsp;</td>\n",
              "            <td class=\"value\">0</td>\n",
              "        </tr>\n",
              "    \n",
              "\n",
              "        <tr class=\"default\">\n",
              "            <td><i class=\"copy-paste-icon\"\n",
              "                 onclick=\"copyToClipboard('warm_start',\n",
              "                          this.parentElement.nextElementSibling)\"\n",
              "            ></i></td>\n",
              "            <td class=\"param\">warm_start&nbsp;</td>\n",
              "            <td class=\"value\">False</td>\n",
              "        </tr>\n",
              "    \n",
              "\n",
              "        <tr class=\"user-set\">\n",
              "            <td><i class=\"copy-paste-icon\"\n",
              "                 onclick=\"copyToClipboard('class_weight',\n",
              "                          this.parentElement.nextElementSibling)\"\n",
              "            ></i></td>\n",
              "            <td class=\"param\">class_weight&nbsp;</td>\n",
              "            <td class=\"value\">&#x27;balanced&#x27;</td>\n",
              "        </tr>\n",
              "    \n",
              "\n",
              "        <tr class=\"default\">\n",
              "            <td><i class=\"copy-paste-icon\"\n",
              "                 onclick=\"copyToClipboard('ccp_alpha',\n",
              "                          this.parentElement.nextElementSibling)\"\n",
              "            ></i></td>\n",
              "            <td class=\"param\">ccp_alpha&nbsp;</td>\n",
              "            <td class=\"value\">0.0</td>\n",
              "        </tr>\n",
              "    \n",
              "\n",
              "        <tr class=\"default\">\n",
              "            <td><i class=\"copy-paste-icon\"\n",
              "                 onclick=\"copyToClipboard('max_samples',\n",
              "                          this.parentElement.nextElementSibling)\"\n",
              "            ></i></td>\n",
              "            <td class=\"param\">max_samples&nbsp;</td>\n",
              "            <td class=\"value\">None</td>\n",
              "        </tr>\n",
              "    \n",
              "\n",
              "        <tr class=\"default\">\n",
              "            <td><i class=\"copy-paste-icon\"\n",
              "                 onclick=\"copyToClipboard('monotonic_cst',\n",
              "                          this.parentElement.nextElementSibling)\"\n",
              "            ></i></td>\n",
              "            <td class=\"param\">monotonic_cst&nbsp;</td>\n",
              "            <td class=\"value\">None</td>\n",
              "        </tr>\n",
              "    \n",
              "                  </tbody>\n",
              "                </table>\n",
              "            </details>\n",
              "        </div>\n",
              "    </div></div></div></div></div><script>function copyToClipboard(text, element) {\n",
              "    // Get the parameter prefix from the closest toggleable content\n",
              "    const toggleableContent = element.closest('.sk-toggleable__content');\n",
              "    const paramPrefix = toggleableContent ? toggleableContent.dataset.paramPrefix : '';\n",
              "    const fullParamName = paramPrefix ? `${paramPrefix}${text}` : text;\n",
              "\n",
              "    const originalStyle = element.style;\n",
              "    const computedStyle = window.getComputedStyle(element);\n",
              "    const originalWidth = computedStyle.width;\n",
              "    const originalHTML = element.innerHTML.replace('Copied!', '');\n",
              "\n",
              "    navigator.clipboard.writeText(fullParamName)\n",
              "        .then(() => {\n",
              "            element.style.width = originalWidth;\n",
              "            element.style.color = 'green';\n",
              "            element.innerHTML = \"Copied!\";\n",
              "\n",
              "            setTimeout(() => {\n",
              "                element.innerHTML = originalHTML;\n",
              "                element.style = originalStyle;\n",
              "            }, 2000);\n",
              "        })\n",
              "        .catch(err => {\n",
              "            console.error('Failed to copy:', err);\n",
              "            element.style.color = 'red';\n",
              "            element.innerHTML = \"Failed!\";\n",
              "            setTimeout(() => {\n",
              "                element.innerHTML = originalHTML;\n",
              "                element.style = originalStyle;\n",
              "            }, 2000);\n",
              "        });\n",
              "    return false;\n",
              "}\n",
              "\n",
              "document.querySelectorAll('.fa-regular.fa-copy').forEach(function(element) {\n",
              "    const toggleableContent = element.closest('.sk-toggleable__content');\n",
              "    const paramPrefix = toggleableContent ? toggleableContent.dataset.paramPrefix : '';\n",
              "    const paramName = element.parentElement.nextElementSibling.textContent.trim();\n",
              "    const fullParamName = paramPrefix ? `${paramPrefix}${paramName}` : paramName;\n",
              "\n",
              "    element.setAttribute('title', fullParamName);\n",
              "});\n",
              "</script></body>"
            ],
            "text/plain": [
              "RandomForestClassifier(bootstrap=False, class_weight='balanced', max_depth=17,\n",
              "                       min_samples_leaf=4, min_samples_split=14,\n",
              "                       n_estimators=805, n_jobs=-1, random_state=42)"
            ]
          },
          "execution_count": 167,
          "metadata": {},
          "output_type": "execute_result"
        }
      ],
      "source": [
        "# Initialize a new RF with the best parameters\n",
        "rf = RandomForestClassifier(\n",
        "    n_estimators=805,\n",
        "    max_depth=17,\n",
        "    max_features='sqrt',\n",
        "    min_samples_split=14,\n",
        "    min_samples_leaf=4,\n",
        "    bootstrap=False,\n",
        "    class_weight=\"balanced\",\n",
        "    random_state=SEED,\n",
        "    n_jobs=-1\n",
        ")\n",
        "\n",
        "# Fit the new model to the training data\n",
        "rf.fit(X_train, y_train)"
      ]
    },
    {
      "cell_type": "markdown",
      "metadata": {
        "id": "_4J5v_P1DCeW"
      },
      "source": [
        "# **5. Prediksi & Pembuatan Submission**"
      ]
    },
    {
      "cell_type": "markdown",
      "metadata": {
        "id": "iiyIwg2SDFcO"
      },
      "source": [
        "#### **5.1 Prediksi**\n",
        "Model yang sudah dilatih digunakan untuk memprediksi kelas target (Low, Medium, atau High) pada data uji."
      ]
    },
    {
      "cell_type": "code",
      "execution_count": 168,
      "metadata": {
        "id": "bTY-zuh-D7GW"
      },
      "outputs": [
        {
          "name": "stdout",
          "output_type": "stream",
          "text": [
            "Test F1-macro: 0.4359036713493793\n"
          ]
        }
      ],
      "source": [
        "# Evaluate on Test Set\n",
        "y_pred = rf.predict(X_test)\n",
        "f1 = f1_score(y_test, y_pred, average=\"macro\")\n",
        "\n",
        "print(\"Test F1-macro:\", f1)"
      ]
    },
    {
      "cell_type": "markdown",
      "metadata": {
        "id": "Uuq8lc4ZDKdm"
      },
      "source": [
        "#### **5.2 Pembuatan Berkas *Submission***\n",
        "Hasil prediksi didekode dari angka kembali ke label asli dan disimpan dalam format submission.csv untuk diunggah ke Kaggle."
      ]
    },
    {
      "cell_type": "code",
      "execution_count": null,
      "metadata": {
        "id": "KxKHy7flD75W"
      },
      "outputs": [
        {
          "name": "stdout",
          "output_type": "stream",
          "text": [
            "Submission file created successfully!\n"
          ]
        }
      ],
      "source": [
        "train_cols = X.columns\n",
        "test_cols  = test_df.columns\n",
        "\n",
        "rf.fit(X,y)\n",
        "test_df = test_df[train_cols]\n",
        "test_pred = rf.predict(test_df)\n",
        "\n",
        "test_pred = [mapping[pred] for pred in test_pred]\n",
        "\n",
        "submission_df = pd.DataFrame({'id': test_df.index, TARGET: test_pred})\n",
        "submission_df.to_csv('submission.csv', index=False)\n",
        "print(\"Submission file created successfully!\")"
      ]
    },
    {
      "cell_type": "markdown",
      "metadata": {},
      "source": [
        "#### 5.3 **Model Saving**"
      ]
    },
    {
      "cell_type": "code",
      "execution_count": 171,
      "metadata": {},
      "outputs": [
        {
          "name": "stdout",
          "output_type": "stream",
          "text": [
            "Model saved successfully as 0.4359-RandomForestClassifier.pkl!\n"
          ]
        }
      ],
      "source": [
        "# Create the filename with F1 score and model name\n",
        "model_name = type(rf).__name__\n",
        "filename = f\"{f1:.4f}-{model_name}.pkl\"\n",
        "\n",
        "# Save the trained model with the new filename\n",
        "pkl.dump(rf, open(filename, \"wb\"))\n",
        "print(f\"Model saved successfully as {filename}!\")"
      ]
    }
  ],
  "metadata": {
    "colab": {
      "provenance": [],
      "toc_visible": true
    },
    "kernelspec": {
      "display_name": "dsml",
      "language": "python",
      "name": "python3"
    },
    "language_info": {
      "codemirror_mode": {
        "name": "ipython",
        "version": 3
      },
      "file_extension": ".py",
      "mimetype": "text/x-python",
      "name": "python",
      "nbconvert_exporter": "python",
      "pygments_lexer": "ipython3",
      "version": "3.13.5"
    }
  },
  "nbformat": 4,
  "nbformat_minor": 0
}
